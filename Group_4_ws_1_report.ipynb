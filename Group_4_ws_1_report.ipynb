{
 "cells": [
  {
   "cell_type": "code",
   "execution_count": 10,
   "id": "5fda10b7-024a-454c-9eda-02bbbdd8bd36",
   "metadata": {},
   "outputs": [],
   "source": [
    "import pandas as pd\n",
    "import matplotlib.pyplot as plt\n",
    "import numpy as np"
   ]
  },
  {
   "cell_type": "code",
   "execution_count": 14,
   "id": "bde01d94-024c-417b-b617-6c6c13d3dc60",
   "metadata": {},
   "outputs": [
    {
     "data": {
      "text/html": [
       "<div>\n",
       "<style scoped>\n",
       "    .dataframe tbody tr th:only-of-type {\n",
       "        vertical-align: middle;\n",
       "    }\n",
       "\n",
       "    .dataframe tbody tr th {\n",
       "        vertical-align: top;\n",
       "    }\n",
       "\n",
       "    .dataframe thead th {\n",
       "        text-align: right;\n",
       "    }\n",
       "</style>\n",
       "<table border=\"1\" class=\"dataframe\">\n",
       "  <thead>\n",
       "    <tr style=\"text-align: right;\">\n",
       "      <th></th>\n",
       "      <th>Att_hrs_fall</th>\n",
       "      <th>GENDER</th>\n",
       "      <th>HIGH_SCHOOL_PERCENTILE</th>\n",
       "      <th>AGE</th>\n",
       "      <th>Att_hrs_spr</th>\n",
       "      <th>Avg_income</th>\n",
       "      <th>Distance</th>\n",
       "      <th>Dropped_course</th>\n",
       "      <th>Major_rate</th>\n",
       "      <th>SAT</th>\n",
       "      <th>...</th>\n",
       "      <th>Legacynum</th>\n",
       "      <th>Stu_worker_ind</th>\n",
       "      <th>Need_pct_met</th>\n",
       "      <th>Perc_hrs_comp_fall</th>\n",
       "      <th>Hs_rate</th>\n",
       "      <th>Dorm_rate</th>\n",
       "      <th>Instate</th>\n",
       "      <th>Transcrip</th>\n",
       "      <th>Fall_GPA</th>\n",
       "      <th>Target</th>\n",
       "    </tr>\n",
       "  </thead>\n",
       "  <tbody>\n",
       "    <tr>\n",
       "      <th>0</th>\n",
       "      <td>13</td>\n",
       "      <td>F</td>\n",
       "      <td>97.0</td>\n",
       "      <td>18.91</td>\n",
       "      <td>15</td>\n",
       "      <td>30573.0</td>\n",
       "      <td>5.083094</td>\n",
       "      <td>0</td>\n",
       "      <td>0.821782</td>\n",
       "      <td>1160</td>\n",
       "      <td>...</td>\n",
       "      <td>0</td>\n",
       "      <td>0</td>\n",
       "      <td>1.000000</td>\n",
       "      <td>1.000000</td>\n",
       "      <td>0.812500</td>\n",
       "      <td>0.8</td>\n",
       "      <td>1</td>\n",
       "      <td>0</td>\n",
       "      <td>3.307692</td>\n",
       "      <td>0</td>\n",
       "    </tr>\n",
       "    <tr>\n",
       "      <th>1</th>\n",
       "      <td>14</td>\n",
       "      <td>M</td>\n",
       "      <td>97.0</td>\n",
       "      <td>18.04</td>\n",
       "      <td>15</td>\n",
       "      <td>27305.0</td>\n",
       "      <td>2.198764</td>\n",
       "      <td>0</td>\n",
       "      <td>0.795455</td>\n",
       "      <td>1050</td>\n",
       "      <td>...</td>\n",
       "      <td>0</td>\n",
       "      <td>0</td>\n",
       "      <td>0.977366</td>\n",
       "      <td>1.000000</td>\n",
       "      <td>1.000000</td>\n",
       "      <td>0.8</td>\n",
       "      <td>1</td>\n",
       "      <td>1</td>\n",
       "      <td>2.821429</td>\n",
       "      <td>0</td>\n",
       "    </tr>\n",
       "    <tr>\n",
       "      <th>2</th>\n",
       "      <td>15</td>\n",
       "      <td>M</td>\n",
       "      <td>83.0</td>\n",
       "      <td>18.16</td>\n",
       "      <td>15</td>\n",
       "      <td>30573.0</td>\n",
       "      <td>5.083094</td>\n",
       "      <td>0</td>\n",
       "      <td>0.843750</td>\n",
       "      <td>1140</td>\n",
       "      <td>...</td>\n",
       "      <td>1</td>\n",
       "      <td>0</td>\n",
       "      <td>0.913965</td>\n",
       "      <td>1.000000</td>\n",
       "      <td>0.812500</td>\n",
       "      <td>0.8</td>\n",
       "      <td>1</td>\n",
       "      <td>0</td>\n",
       "      <td>3.133333</td>\n",
       "      <td>0</td>\n",
       "    </tr>\n",
       "    <tr>\n",
       "      <th>3</th>\n",
       "      <td>14</td>\n",
       "      <td>M</td>\n",
       "      <td>92.0</td>\n",
       "      <td>18.59</td>\n",
       "      <td>12</td>\n",
       "      <td>35865.0</td>\n",
       "      <td>3.245574</td>\n",
       "      <td>0</td>\n",
       "      <td>NaN</td>\n",
       "      <td>1090</td>\n",
       "      <td>...</td>\n",
       "      <td>0</td>\n",
       "      <td>1</td>\n",
       "      <td>1.000000</td>\n",
       "      <td>1.000000</td>\n",
       "      <td>0.847826</td>\n",
       "      <td>0.8</td>\n",
       "      <td>1</td>\n",
       "      <td>0</td>\n",
       "      <td>2.678571</td>\n",
       "      <td>0</td>\n",
       "    </tr>\n",
       "    <tr>\n",
       "      <th>4</th>\n",
       "      <td>16</td>\n",
       "      <td>F</td>\n",
       "      <td>80.0</td>\n",
       "      <td>18.88</td>\n",
       "      <td>16</td>\n",
       "      <td>40125.0</td>\n",
       "      <td>19.486585</td>\n",
       "      <td>0</td>\n",
       "      <td>0.840391</td>\n",
       "      <td>1150</td>\n",
       "      <td>...</td>\n",
       "      <td>0</td>\n",
       "      <td>1</td>\n",
       "      <td>1.000000</td>\n",
       "      <td>1.000000</td>\n",
       "      <td>0.875000</td>\n",
       "      <td>0.8</td>\n",
       "      <td>1</td>\n",
       "      <td>0</td>\n",
       "      <td>2.500000</td>\n",
       "      <td>0</td>\n",
       "    </tr>\n",
       "    <tr>\n",
       "      <th>5</th>\n",
       "      <td>18</td>\n",
       "      <td>F</td>\n",
       "      <td>NaN</td>\n",
       "      <td>18.64</td>\n",
       "      <td>16</td>\n",
       "      <td>45371.0</td>\n",
       "      <td>52.470435</td>\n",
       "      <td>1</td>\n",
       "      <td>0.829515</td>\n",
       "      <td>1320</td>\n",
       "      <td>...</td>\n",
       "      <td>0</td>\n",
       "      <td>0</td>\n",
       "      <td>0.974919</td>\n",
       "      <td>0.833333</td>\n",
       "      <td>0.875000</td>\n",
       "      <td>0.8</td>\n",
       "      <td>1</td>\n",
       "      <td>0</td>\n",
       "      <td>3.000000</td>\n",
       "      <td>0</td>\n",
       "    </tr>\n",
       "    <tr>\n",
       "      <th>6</th>\n",
       "      <td>12</td>\n",
       "      <td>F</td>\n",
       "      <td>64.0</td>\n",
       "      <td>18.79</td>\n",
       "      <td>14</td>\n",
       "      <td>40323.0</td>\n",
       "      <td>189.876503</td>\n",
       "      <td>0</td>\n",
       "      <td>0.831511</td>\n",
       "      <td>960</td>\n",
       "      <td>...</td>\n",
       "      <td>0</td>\n",
       "      <td>0</td>\n",
       "      <td>1.000000</td>\n",
       "      <td>1.000000</td>\n",
       "      <td>0.750000</td>\n",
       "      <td>0.8</td>\n",
       "      <td>1</td>\n",
       "      <td>0</td>\n",
       "      <td>2.027778</td>\n",
       "      <td>0</td>\n",
       "    </tr>\n",
       "    <tr>\n",
       "      <th>7</th>\n",
       "      <td>15</td>\n",
       "      <td>F</td>\n",
       "      <td>75.0</td>\n",
       "      <td>18.34</td>\n",
       "      <td>15</td>\n",
       "      <td>35865.0</td>\n",
       "      <td>3.245574</td>\n",
       "      <td>0</td>\n",
       "      <td>0.916667</td>\n",
       "      <td>1350</td>\n",
       "      <td>...</td>\n",
       "      <td>0</td>\n",
       "      <td>0</td>\n",
       "      <td>1.000000</td>\n",
       "      <td>1.000000</td>\n",
       "      <td>NaN</td>\n",
       "      <td>0.8</td>\n",
       "      <td>1</td>\n",
       "      <td>0</td>\n",
       "      <td>3.800000</td>\n",
       "      <td>0</td>\n",
       "    </tr>\n",
       "    <tr>\n",
       "      <th>8</th>\n",
       "      <td>12</td>\n",
       "      <td>F</td>\n",
       "      <td>83.0</td>\n",
       "      <td>19.27</td>\n",
       "      <td>13</td>\n",
       "      <td>39779.0</td>\n",
       "      <td>18.380676</td>\n",
       "      <td>0</td>\n",
       "      <td>0.865385</td>\n",
       "      <td>940</td>\n",
       "      <td>...</td>\n",
       "      <td>1</td>\n",
       "      <td>0</td>\n",
       "      <td>1.000000</td>\n",
       "      <td>1.000000</td>\n",
       "      <td>0.850000</td>\n",
       "      <td>0.8</td>\n",
       "      <td>1</td>\n",
       "      <td>1</td>\n",
       "      <td>3.333333</td>\n",
       "      <td>0</td>\n",
       "    </tr>\n",
       "    <tr>\n",
       "      <th>9</th>\n",
       "      <td>12</td>\n",
       "      <td>M</td>\n",
       "      <td>46.0</td>\n",
       "      <td>19.19</td>\n",
       "      <td>13</td>\n",
       "      <td>30573.0</td>\n",
       "      <td>5.083094</td>\n",
       "      <td>0</td>\n",
       "      <td>0.829268</td>\n",
       "      <td>1010</td>\n",
       "      <td>...</td>\n",
       "      <td>1</td>\n",
       "      <td>1</td>\n",
       "      <td>1.000000</td>\n",
       "      <td>1.000000</td>\n",
       "      <td>NaN</td>\n",
       "      <td>0.8</td>\n",
       "      <td>1</td>\n",
       "      <td>0</td>\n",
       "      <td>2.100000</td>\n",
       "      <td>0</td>\n",
       "    </tr>\n",
       "  </tbody>\n",
       "</table>\n",
       "<p>10 rows × 21 columns</p>\n",
       "</div>"
      ],
      "text/plain": [
       "   Att_hrs_fall GENDER  HIGH_SCHOOL_PERCENTILE    AGE  Att_hrs_spr  \\\n",
       "0            13      F                    97.0  18.91           15   \n",
       "1            14      M                    97.0  18.04           15   \n",
       "2            15      M                    83.0  18.16           15   \n",
       "3            14      M                    92.0  18.59           12   \n",
       "4            16      F                    80.0  18.88           16   \n",
       "5            18      F                     NaN  18.64           16   \n",
       "6            12      F                    64.0  18.79           14   \n",
       "7            15      F                    75.0  18.34           15   \n",
       "8            12      F                    83.0  19.27           13   \n",
       "9            12      M                    46.0  19.19           13   \n",
       "\n",
       "   Avg_income    Distance  Dropped_course  Major_rate   SAT  ...  Legacynum  \\\n",
       "0     30573.0    5.083094               0    0.821782  1160  ...          0   \n",
       "1     27305.0    2.198764               0    0.795455  1050  ...          0   \n",
       "2     30573.0    5.083094               0    0.843750  1140  ...          1   \n",
       "3     35865.0    3.245574               0         NaN  1090  ...          0   \n",
       "4     40125.0   19.486585               0    0.840391  1150  ...          0   \n",
       "5     45371.0   52.470435               1    0.829515  1320  ...          0   \n",
       "6     40323.0  189.876503               0    0.831511   960  ...          0   \n",
       "7     35865.0    3.245574               0    0.916667  1350  ...          0   \n",
       "8     39779.0   18.380676               0    0.865385   940  ...          1   \n",
       "9     30573.0    5.083094               0    0.829268  1010  ...          1   \n",
       "\n",
       "   Stu_worker_ind  Need_pct_met  Perc_hrs_comp_fall   Hs_rate  Dorm_rate  \\\n",
       "0               0      1.000000            1.000000  0.812500        0.8   \n",
       "1               0      0.977366            1.000000  1.000000        0.8   \n",
       "2               0      0.913965            1.000000  0.812500        0.8   \n",
       "3               1      1.000000            1.000000  0.847826        0.8   \n",
       "4               1      1.000000            1.000000  0.875000        0.8   \n",
       "5               0      0.974919            0.833333  0.875000        0.8   \n",
       "6               0      1.000000            1.000000  0.750000        0.8   \n",
       "7               0      1.000000            1.000000       NaN        0.8   \n",
       "8               0      1.000000            1.000000  0.850000        0.8   \n",
       "9               1      1.000000            1.000000       NaN        0.8   \n",
       "\n",
       "   Instate  Transcrip  Fall_GPA  Target  \n",
       "0        1          0  3.307692       0  \n",
       "1        1          1  2.821429       0  \n",
       "2        1          0  3.133333       0  \n",
       "3        1          0  2.678571       0  \n",
       "4        1          0  2.500000       0  \n",
       "5        1          0  3.000000       0  \n",
       "6        1          0  2.027778       0  \n",
       "7        1          0  3.800000       0  \n",
       "8        1          1  3.333333       0  \n",
       "9        1          0  2.100000       0  \n",
       "\n",
       "[10 rows x 21 columns]"
      ]
     },
     "execution_count": 14,
     "metadata": {},
     "output_type": "execute_result"
    }
   ],
   "source": [
    "df = pd.read_csv('retention.csv')\n",
    "df.head(10)"
   ]
  },
  {
   "cell_type": "markdown",
   "id": "e9eecdee-1b24-4bdc-b19f-4471efb0fae4",
   "metadata": {},
   "source": [
    "# Page (3-32)"
   ]
  },
  {
   "cell_type": "markdown",
   "id": "f084d1ad-6ad9-4cd9-878e-4ecc3509dd74",
   "metadata": {},
   "source": [
    "**1. How many rows (observations) are there?**"
   ]
  },
  {
   "cell_type": "code",
   "execution_count": 20,
   "id": "8a83139c-1225-4273-a8e1-f3f793db3474",
   "metadata": {},
   "outputs": [
    {
     "name": "stdout",
     "output_type": "stream",
     "text": [
      "There are 2626 observations\n"
     ]
    }
   ],
   "source": [
    "#Part 1-q1\n",
    "print(f'There are {df.shape[0]} observations')"
   ]
  },
  {
   "cell_type": "markdown",
   "id": "2ff4d36f-698d-4703-907d-5d618f502261",
   "metadata": {},
   "source": [
    "**2. How many columns (variables) does the Retention table have?** "
   ]
  },
  {
   "cell_type": "code",
   "execution_count": 24,
   "id": "336c42a4-b1b0-4724-91c1-5a4075e9c03f",
   "metadata": {},
   "outputs": [
    {
     "name": "stdout",
     "output_type": "stream",
     "text": [
      "There are 21 columns\n"
     ]
    }
   ],
   "source": [
    "#Part 1-q2\n",
    "print(f'There are {df.shape[1]} columns')"
   ]
  },
  {
   "cell_type": "markdown",
   "id": "79edfc96-4167-405b-bf96-0c25246b3e31",
   "metadata": {},
   "source": [
    "**3. When you're analyzing the variables, what are some basic ways you can figure out their roles and types (e.g., categorical, numeric)?**"
   ]
  },
  {
   "cell_type": "code",
   "execution_count": 26,
   "id": "cb6adc64-8582-43a4-952b-75b16f202137",
   "metadata": {},
   "outputs": [
    {
     "name": "stdout",
     "output_type": "stream",
     "text": [
      "<class 'pandas.core.frame.DataFrame'>\n",
      "RangeIndex: 2626 entries, 0 to 2625\n",
      "Data columns (total 21 columns):\n",
      " #   Column                  Non-Null Count  Dtype  \n",
      "---  ------                  --------------  -----  \n",
      " 0   Att_hrs_fall            2626 non-null   int64  \n",
      " 1   GENDER                  2626 non-null   object \n",
      " 2   HIGH_SCHOOL_PERCENTILE  2363 non-null   float64\n",
      " 3   AGE                     2626 non-null   float64\n",
      " 4   Att_hrs_spr             2626 non-null   int64  \n",
      " 5   Avg_income              2469 non-null   float64\n",
      " 6   Distance                2528 non-null   float64\n",
      " 7   Dropped_course          2626 non-null   int64  \n",
      " 8   Major_rate              2547 non-null   float64\n",
      " 9   SAT                     2626 non-null   int64  \n",
      " 10  Extra_curr              2626 non-null   int64  \n",
      " 11  Legacynum               2626 non-null   int64  \n",
      " 12  Stu_worker_ind          2626 non-null   int64  \n",
      " 13  Need_pct_met            2626 non-null   float64\n",
      " 14  Perc_hrs_comp_fall      2626 non-null   float64\n",
      " 15  Hs_rate                 1821 non-null   float64\n",
      " 16  Dorm_rate               2626 non-null   float64\n",
      " 17  Instate                 2626 non-null   int64  \n",
      " 18  Transcrip               2626 non-null   int64  \n",
      " 19  Fall_GPA                2626 non-null   float64\n",
      " 20  Target                  2626 non-null   int64  \n",
      "dtypes: float64(10), int64(10), object(1)\n",
      "memory usage: 431.0+ KB\n"
     ]
    }
   ],
   "source": [
    "#Part 1-q3\n",
    "df.info()"
   ]
  },
  {
   "cell_type": "code",
   "execution_count": 28,
   "id": "85590818-8e41-494c-9aba-814896c1b172",
   "metadata": {},
   "outputs": [
    {
     "name": "stdout",
     "output_type": "stream",
     "text": [
      "Top 5 features using SelectKBest: ['HIGH_SCHOOL_PERCENTILE', 'Perc_hrs_comp_fall', 'Dorm_rate', 'Transcrip', 'Fall_GPA']\n"
     ]
    }
   ],
   "source": [
    "#Part 1-q3\n",
    "from sklearn.preprocessing import LabelEncoder\n",
    "from sklearn.impute import SimpleImputer\n",
    "from sklearn.feature_selection import SelectKBest, f_classif\n",
    "\n",
    "X = df.drop(\"Target\", axis=1)\n",
    "y = df[\"Target\"]\n",
    "\n",
    "# Label encode categorical variable\n",
    "X_encoded = X.copy()\n",
    "le= LabelEncoder()\n",
    "X_encoded[\"GENDER\"] = le.fit_transform(X[\"GENDER\"])\n",
    "\n",
    "# Impute missing values with mean\n",
    "imputer = SimpleImputer(strategy=\"mean\")\n",
    "X_imputed = pd.DataFrame(imputer.fit_transform(X_encoded), columns=X_encoded.columns)\n",
    "\n",
    "kbest = SelectKBest(score_func=f_classif, k=5)\n",
    "X_kbest = kbest.fit_transform(X_imputed, y)\n",
    "selected_kbest = X_imputed.columns[kbest.get_support()]\n",
    "print(\"Top 5 features using SelectKBest:\", list(selected_kbest))"
   ]
  },
  {
   "cell_type": "markdown",
   "id": "b7eadc6f-6d76-4edb-b8d0-67eddc886780",
   "metadata": {},
   "source": [
    "# (Page 3-36)"
   ]
  },
  {
   "cell_type": "markdown",
   "id": "a220628d-9a4e-4cf4-bddc-f684b853d565",
   "metadata": {},
   "source": [
    "**1. What happens when a column has missing values? Are they automatically removed by Python?**"
   ]
  },
  {
   "cell_type": "code",
   "execution_count": 20,
   "id": "e8898429-f04a-4cc1-9737-10b247f16ed3",
   "metadata": {},
   "outputs": [
    {
     "name": "stdout",
     "output_type": "stream",
     "text": [
      "Missing values in each column:\n",
      "Att_hrs_fall                0\n",
      "GENDER                      0\n",
      "HIGH_SCHOOL_PERCENTILE    263\n",
      "AGE                         0\n",
      "Att_hrs_spr                 0\n",
      "Avg_income                157\n",
      "Distance                   98\n",
      "Dropped_course              0\n",
      "Major_rate                 79\n",
      "SAT                         0\n",
      "Extra_curr                  0\n",
      "Legacynum                   0\n",
      "Stu_worker_ind              0\n",
      "Need_pct_met                0\n",
      "Perc_hrs_comp_fall          0\n",
      "Hs_rate                   805\n",
      "Dorm_rate                   0\n",
      "Instate                     0\n",
      "Transcrip                   0\n",
      "Fall_GPA                    0\n",
      "Target                      0\n",
      "dtype: int64\n",
      "\n",
      "Rows remaining after dropping missing values: 1563 out of 2626\n",
      "\n",
      "Percentage of missing values in each column:\n",
      "HIGH_SCHOOL_PERCENTILE    10.015232\n",
      "Avg_income                 5.978675\n",
      "Distance                   3.731912\n",
      "Major_rate                 3.008378\n",
      "Hs_rate                   30.654989\n",
      "dtype: float64\n"
     ]
    }
   ],
   "source": [
    "missing_values = df.isnull().sum()\n",
    "print(\"Missing values in each column:\")\n",
    "print(missing_values)\n",
    "\n",
    "rows_after_dropping = df.dropna().shape[0]\n",
    "print(f\"\\nRows remaining after dropping missing values: {rows_after_dropping} out of {len(df)}\")\n",
    "\n",
    "missing_percentage = (missing_values / len(df)) * 100\n",
    "print(\"\\nPercentage of missing values in each column:\")\n",
    "print(missing_percentage[missing_percentage > 0])  "
   ]
  },
  {
   "cell_type": "markdown",
   "id": "6fccc6c6-5d6c-4e86-b95c-ac11f19167d7",
   "metadata": {},
   "source": [
    "## Explanation:\n",
    "\n",
    "This code checks for missing values in the dataset. It uses `isnull().sum()` to count missing values in each column, calculates how many rows would remain if missing data were dropped with `dropna()`, and computes the percentage of missing values in each column.\n",
    "\n",
    "## Answer to the question:\n",
    "\n",
    "No, pandas (the Python library used here) does not automatically remove missing values. They remain as `NaN` unless explicitly handled. This means analysts must decide whether to drop, impute, or otherwise manage these values."
   ]
  },
  {
   "cell_type": "markdown",
   "id": "01dfbb9d-84df-452f-b396-e4b287b34991",
   "metadata": {},
   "source": [
    "**2. Are any numeric columns actually categorical (based on few unique values)?**"
   ]
  },
  {
   "cell_type": "code",
   "execution_count": 22,
   "id": "6ca8ec88-2aa4-4c3d-b34a-51051dde9549",
   "metadata": {},
   "outputs": [
    {
     "name": "stdout",
     "output_type": "stream",
     "text": [
      "Descriptive statistics of numeric columns:\n",
      "       Att_hrs_fall  HIGH_SCHOOL_PERCENTILE          AGE  Att_hrs_spr  \\\n",
      "count   2626.000000             2363.000000  2626.000000  2626.000000   \n",
      "mean      14.612719               79.091071    18.553679    14.865956   \n",
      "std        1.389914               19.434681     0.584624     1.625372   \n",
      "min        3.000000                0.600000    16.860000     4.000000   \n",
      "25%       14.000000               68.000000    18.270000    14.000000   \n",
      "50%       15.000000               86.000000    18.540000    15.000000   \n",
      "75%       16.000000               95.000000    18.810000    16.000000   \n",
      "max       19.000000              100.000000    39.430000    20.000000   \n",
      "\n",
      "          Avg_income     Distance  Dropped_course   Major_rate          SAT  \\\n",
      "count    2469.000000  2528.000000     2626.000000  2547.000000  2626.000000   \n",
      "mean    58521.582017   260.155720        0.071592     0.836452  1178.313024   \n",
      "std     23475.953076   343.951562        0.324575     0.021735   133.072450   \n",
      "min     14126.000000     0.785832        0.000000     0.750000   750.000000   \n",
      "25%     40161.000000    96.615519        0.000000     0.829515  1080.000000   \n",
      "50%     54016.000000   147.886187        0.000000     0.831511  1180.000000   \n",
      "75%     71852.000000   205.964355        0.000000     0.838951  1280.000000   \n",
      "max    200001.000000  3882.192379        6.000000     0.935484  1600.000000   \n",
      "\n",
      "        Extra_curr    Legacynum  Stu_worker_ind  Need_pct_met  \\\n",
      "count  2626.000000  2626.000000     2626.000000   2626.000000   \n",
      "mean      0.327494     0.311500        0.119954      0.917301   \n",
      "std       0.609873     0.463195        0.324970      0.245779   \n",
      "min       0.000000     0.000000        0.000000      0.000000   \n",
      "25%       0.000000     0.000000        0.000000      1.000000   \n",
      "50%       0.000000     0.000000        0.000000      1.000000   \n",
      "75%       1.000000     1.000000        0.000000      1.000000   \n",
      "max       4.000000     1.000000        1.000000      1.000000   \n",
      "\n",
      "       Perc_hrs_comp_fall      Hs_rate    Dorm_rate      Instate    Transcrip  \\\n",
      "count         2626.000000  1821.000000  2626.000000  2626.000000  2626.000000   \n",
      "mean             0.935889     0.836606     0.836195     0.815689     0.564356   \n",
      "std              0.158619     0.143239     0.022936     0.387811     0.495935   \n",
      "min              0.000000     0.500000     0.600000     0.000000     0.000000   \n",
      "25%              1.000000     0.800000     0.817533     1.000000     0.000000   \n",
      "50%              1.000000     0.843023     0.845717     1.000000     1.000000   \n",
      "75%              1.000000     0.875000     0.847932     1.000000     1.000000   \n",
      "max              2.428571     6.000000     0.878319     1.000000     1.000000   \n",
      "\n",
      "          Fall_GPA       Target  \n",
      "count  2626.000000  2626.000000  \n",
      "mean      2.946933     0.127190  \n",
      "std       0.811767     0.333249  \n",
      "min       0.000000     0.000000  \n",
      "25%       2.500000     0.000000  \n",
      "50%       3.100000     0.000000  \n",
      "75%       3.566667     0.000000  \n",
      "max       4.000000     1.000000  \n",
      "\n",
      "Unique value counts per numeric column:\n",
      "Att_hrs_fall: 13 unique values\n",
      "HIGH_SCHOOL_PERCENTILE: 94 unique values\n",
      "AGE: 236 unique values\n",
      "Att_hrs_spr: 13 unique values\n",
      "Avg_income: 945 unique values\n",
      "Distance: 1000 unique values\n",
      "Dropped_course: 6 unique values\n",
      "Major_rate: 46 unique values\n",
      "SAT: 82 unique values\n",
      "Extra_curr: 5 unique values\n",
      "Legacynum: 2 unique values\n",
      "Stu_worker_ind: 2 unique values\n",
      "Need_pct_met: 323 unique values\n",
      "Perc_hrs_comp_fall: 71 unique values\n",
      "Hs_rate: 87 unique values\n",
      "Dorm_rate: 17 unique values\n",
      "Instate: 2 unique values\n",
      "Transcrip: 2 unique values\n",
      "Fall_GPA: 496 unique values\n",
      "Target: 2 unique values\n",
      "\n",
      "Potential categorical numeric columns (fewer than 10 unique values):\n",
      "Dropped_course might be categorical\n",
      "Extra_curr might be categorical\n",
      "Legacynum might be categorical\n",
      "Stu_worker_ind might be categorical\n",
      "Instate might be categorical\n",
      "Transcrip might be categorical\n",
      "Target might be categorical\n"
     ]
    }
   ],
   "source": [
    "numeric_desc = df.select_dtypes(include='number').describe()\n",
    "print(\"Descriptive statistics of numeric columns:\")\n",
    "print(numeric_desc)\n",
    "\n",
    "print(\"\\nUnique value counts per numeric column:\")\n",
    "for col in df.select_dtypes(include='number').columns:\n",
    "    unique_vals = df[col].nunique()\n",
    "    print(f\"{col}: {unique_vals} unique values\")\n",
    "\n",
    "print(\"\\nPotential categorical numeric columns (fewer than 10 unique values):\")\n",
    "for col in df.select_dtypes(include='number').columns:\n",
    "    if df[col].nunique() < 10:\n",
    "        print(f\"{col} might be categorical\")"
   ]
  },
  {
   "cell_type": "markdown",
   "id": "5b03479f-ae46-47ad-bfa9-100d2cd8e675",
   "metadata": {},
   "source": [
    "## Explanation:\n",
    "\n",
    "The code describes numeric columns, counts the number of unique values in each, and identifies those with fewer than 10 unique values as potentially categorical.\n",
    "\n",
    "## Answer to the question:\n",
    "\n",
    "Yes, numeric columns with a small number of unique values (e.g., less than 10) may actually be categorical variables. These could represent categories encoded as numbers and should be reviewed before modeling."
   ]
  },
  {
   "cell_type": "markdown",
   "id": "6d76170d-bc5d-46e7-baeb-c79538f9a2f9",
   "metadata": {},
   "source": [
    "**3. Is there a rule for how many unique values define a column as categorical?**"
   ]
  },
  {
   "cell_type": "code",
   "execution_count": 24,
   "id": "691d4afb-14df-4336-a885-17dd4cfee502",
   "metadata": {},
   "outputs": [
    {
     "name": "stdout",
     "output_type": "stream",
     "text": [
      "\n",
      "Unique value counts for all columns (numeric + non-numeric):\n",
      "Target                       2\n",
      "GENDER                       2\n",
      "Transcrip                    2\n",
      "Instate                      2\n",
      "Stu_worker_ind               2\n",
      "Legacynum                    2\n",
      "Extra_curr                   5\n",
      "Dropped_course               6\n",
      "Att_hrs_spr                 13\n",
      "Att_hrs_fall                13\n",
      "Dorm_rate                   17\n",
      "Major_rate                  46\n",
      "Perc_hrs_comp_fall          71\n",
      "SAT                         82\n",
      "Hs_rate                     87\n",
      "HIGH_SCHOOL_PERCENTILE      94\n",
      "AGE                        236\n",
      "Need_pct_met               323\n",
      "Fall_GPA                   496\n",
      "Avg_income                 945\n",
      "Distance                  1000\n",
      "dtype: int64\n"
     ]
    }
   ],
   "source": [
    "print(\"\\nUnique value counts for all columns (numeric + non-numeric):\")\n",
    "unique_counts = df.nunique().sort_values()\n",
    "print(unique_counts)"
   ]
  },
  {
   "cell_type": "markdown",
   "id": "e453e235-7c88-4093-8d96-7f59061e66fa",
   "metadata": {},
   "source": [
    "## Explanation:\n",
    "\n",
    "This code counts the number of unique values in all columns using `nunique()` and sorts them. It provides a basis for assessing whether a column might be categorical or continuous.\n",
    "\n",
    "## Answer to the question:\n",
    "\n",
    "There is no strict rule in Python or pandas about how many unique values define a categorical column. However, a common heuristic is that columns with fewer than 10–20 unique values may be considered categorical. Ultimately, the decision depends on data context and usage."
   ]
  },
  {
   "cell_type": "markdown",
   "id": "94329153-71e1-4a39-ae5d-eebde27b35ab",
   "metadata": {},
   "source": [
    "# (Page 3‑34)"
   ]
  },
  {
   "cell_type": "code",
   "execution_count": 51,
   "id": "1427b184-2420-4a9f-8eaa-2047900e06ec",
   "metadata": {},
   "outputs": [],
   "source": [
    "%matplotlib inline"
   ]
  },
  {
   "cell_type": "markdown",
   "id": "e0654cbf-ed4b-4ba9-b9d4-644b496bb3af",
   "metadata": {},
   "source": [
    "• How many input features vs. target variables? *Answer:* 20 input features and 1 target variable\n",
    "\n",
    "• Of the inputs, how many are nominal (categorical)? *Answer:* There are 7 nominal input features\n",
    "\n",
    "• Are any variables being rejected? *Answer:* Each one is unique so there is none to reject\n",
    "\n",
    "• When sampling for exploration, what limits the “fetch” size? Typical value? *Answer:* When sampling for exploration in a Jupyter Notebook, the \"fetch\" size is primarily limited by your computer's available RAM, as well as CPU and disk I/O. It dictates how much data is loaded into memory at one time. While there isn't a universal default for general data loading, some database cursors or specific data connectors might have a small default fetch size, often around 5 rows, to minimize initial memory consumption, requiring explicit configuration for larger batches."
   ]
  },
  {
   "cell_type": "code",
   "execution_count": 55,
   "id": "553fce0a-682a-4d4e-b7f4-9cebfb8528f7",
   "metadata": {},
   "outputs": [
    {
     "name": "stdout",
     "output_type": "stream",
     "text": [
      "Features (20): ['AGE', 'Major_rate', 'Perc_hrs_comp_fall', 'Transcrip', 'SAT', 'Legacynum', 'Hs_rate', 'Att_hrs_spr', 'Stu_worker_ind', 'Distance', 'Instate', 'Dorm_rate', 'HIGH_SCHOOL_PERCENTILE', 'GENDER', 'Att_hrs_fall', 'Need_pct_met', 'Fall_GPA', 'Avg_income', 'Dropped_course', 'Extra_curr']\n",
      "Targets (1): {'Target'}\n",
      "\n",
      "Nominal (<=10 unique) features (7): ['Transcrip', 'Legacynum', 'Stu_worker_ind', 'Instate', 'GENDER', 'Dropped_course', 'Extra_curr']\n"
     ]
    }
   ],
   "source": [
    "# Assumption on \"target\" variable as the target variable and all else is others\n",
    "all_columns = set(df.columns)\n",
    "targets = {'Target'} & all_columns\n",
    "features = list(all_columns - targets)\n",
    "\n",
    "print(f\"Features ({len(features)}): {features}\")\n",
    "print(f\"Targets ({len(targets)}): {targets}\")\n",
    "\n",
    "# Code to count the nominal among the input features\n",
    "nominal = [col for col in features if df[col].nunique() <= 10]\n",
    "print(f\"\\nNominal (<=10 unique) features ({len(nominal)}): {nominal}\")"
   ]
  },
  {
   "cell_type": "code",
   "execution_count": 16,
   "id": "3d8dee8f-5b02-4e7f-ab4c-c83d06dc5cad",
   "metadata": {},
   "outputs": [
    {
     "data": {
      "text/html": [
       "<div>\n",
       "<style scoped>\n",
       "    .dataframe tbody tr th:only-of-type {\n",
       "        vertical-align: middle;\n",
       "    }\n",
       "\n",
       "    .dataframe tbody tr th {\n",
       "        vertical-align: top;\n",
       "    }\n",
       "\n",
       "    .dataframe thead th {\n",
       "        text-align: right;\n",
       "    }\n",
       "</style>\n",
       "<table border=\"1\" class=\"dataframe\">\n",
       "  <thead>\n",
       "    <tr style=\"text-align: right;\">\n",
       "      <th></th>\n",
       "      <th>Att_hrs_fall</th>\n",
       "      <th>GENDER</th>\n",
       "      <th>HIGH_SCHOOL_PERCENTILE</th>\n",
       "      <th>AGE</th>\n",
       "      <th>Att_hrs_spr</th>\n",
       "      <th>Avg_income</th>\n",
       "      <th>Distance</th>\n",
       "      <th>Dropped_course</th>\n",
       "      <th>Major_rate</th>\n",
       "      <th>SAT</th>\n",
       "      <th>...</th>\n",
       "      <th>Legacynum</th>\n",
       "      <th>Stu_worker_ind</th>\n",
       "      <th>Need_pct_met</th>\n",
       "      <th>Perc_hrs_comp_fall</th>\n",
       "      <th>Hs_rate</th>\n",
       "      <th>Dorm_rate</th>\n",
       "      <th>Instate</th>\n",
       "      <th>Transcrip</th>\n",
       "      <th>Fall_GPA</th>\n",
       "      <th>Target</th>\n",
       "    </tr>\n",
       "  </thead>\n",
       "  <tbody>\n",
       "    <tr>\n",
       "      <th>221</th>\n",
       "      <td>17</td>\n",
       "      <td>F</td>\n",
       "      <td>99.0</td>\n",
       "      <td>18.66</td>\n",
       "      <td>16</td>\n",
       "      <td>31087.0</td>\n",
       "      <td>32.651935</td>\n",
       "      <td>0</td>\n",
       "      <td>0.795455</td>\n",
       "      <td>1300</td>\n",
       "      <td>...</td>\n",
       "      <td>1</td>\n",
       "      <td>0</td>\n",
       "      <td>0.847511</td>\n",
       "      <td>1.0</td>\n",
       "      <td>NaN</td>\n",
       "      <td>0.804103</td>\n",
       "      <td>1</td>\n",
       "      <td>1</td>\n",
       "      <td>2.941176</td>\n",
       "      <td>0</td>\n",
       "    </tr>\n",
       "    <tr>\n",
       "      <th>318</th>\n",
       "      <td>15</td>\n",
       "      <td>F</td>\n",
       "      <td>95.0</td>\n",
       "      <td>18.00</td>\n",
       "      <td>16</td>\n",
       "      <td>53131.0</td>\n",
       "      <td>325.178481</td>\n",
       "      <td>0</td>\n",
       "      <td>0.831585</td>\n",
       "      <td>1340</td>\n",
       "      <td>...</td>\n",
       "      <td>0</td>\n",
       "      <td>0</td>\n",
       "      <td>1.000000</td>\n",
       "      <td>1.0</td>\n",
       "      <td>NaN</td>\n",
       "      <td>0.804103</td>\n",
       "      <td>0</td>\n",
       "      <td>1</td>\n",
       "      <td>4.000000</td>\n",
       "      <td>0</td>\n",
       "    </tr>\n",
       "    <tr>\n",
       "      <th>926</th>\n",
       "      <td>15</td>\n",
       "      <td>M</td>\n",
       "      <td>78.0</td>\n",
       "      <td>17.42</td>\n",
       "      <td>15</td>\n",
       "      <td>87290.0</td>\n",
       "      <td>82.459651</td>\n",
       "      <td>0</td>\n",
       "      <td>0.831511</td>\n",
       "      <td>1130</td>\n",
       "      <td>...</td>\n",
       "      <td>0</td>\n",
       "      <td>1</td>\n",
       "      <td>1.000000</td>\n",
       "      <td>1.0</td>\n",
       "      <td>0.909091</td>\n",
       "      <td>0.878319</td>\n",
       "      <td>1</td>\n",
       "      <td>0</td>\n",
       "      <td>3.200000</td>\n",
       "      <td>0</td>\n",
       "    </tr>\n",
       "    <tr>\n",
       "      <th>1352</th>\n",
       "      <td>16</td>\n",
       "      <td>F</td>\n",
       "      <td>87.0</td>\n",
       "      <td>19.28</td>\n",
       "      <td>16</td>\n",
       "      <td>83078.0</td>\n",
       "      <td>150.084701</td>\n",
       "      <td>0</td>\n",
       "      <td>0.882353</td>\n",
       "      <td>1220</td>\n",
       "      <td>...</td>\n",
       "      <td>0</td>\n",
       "      <td>0</td>\n",
       "      <td>0.828786</td>\n",
       "      <td>1.0</td>\n",
       "      <td>0.866667</td>\n",
       "      <td>0.846564</td>\n",
       "      <td>1</td>\n",
       "      <td>1</td>\n",
       "      <td>4.000000</td>\n",
       "      <td>0</td>\n",
       "    </tr>\n",
       "    <tr>\n",
       "      <th>1801</th>\n",
       "      <td>16</td>\n",
       "      <td>M</td>\n",
       "      <td>95.0</td>\n",
       "      <td>18.00</td>\n",
       "      <td>16</td>\n",
       "      <td>87290.0</td>\n",
       "      <td>82.459651</td>\n",
       "      <td>0</td>\n",
       "      <td>0.863636</td>\n",
       "      <td>1330</td>\n",
       "      <td>...</td>\n",
       "      <td>0</td>\n",
       "      <td>0</td>\n",
       "      <td>1.000000</td>\n",
       "      <td>1.0</td>\n",
       "      <td>0.750000</td>\n",
       "      <td>0.878319</td>\n",
       "      <td>1</td>\n",
       "      <td>1</td>\n",
       "      <td>3.812500</td>\n",
       "      <td>0</td>\n",
       "    </tr>\n",
       "  </tbody>\n",
       "</table>\n",
       "<p>5 rows × 21 columns</p>\n",
       "</div>"
      ],
      "text/plain": [
       "      Att_hrs_fall GENDER  HIGH_SCHOOL_PERCENTILE    AGE  Att_hrs_spr  \\\n",
       "221             17      F                    99.0  18.66           16   \n",
       "318             15      F                    95.0  18.00           16   \n",
       "926             15      M                    78.0  17.42           15   \n",
       "1352            16      F                    87.0  19.28           16   \n",
       "1801            16      M                    95.0  18.00           16   \n",
       "\n",
       "      Avg_income    Distance  Dropped_course  Major_rate   SAT  ...  \\\n",
       "221      31087.0   32.651935               0    0.795455  1300  ...   \n",
       "318      53131.0  325.178481               0    0.831585  1340  ...   \n",
       "926      87290.0   82.459651               0    0.831511  1130  ...   \n",
       "1352     83078.0  150.084701               0    0.882353  1220  ...   \n",
       "1801     87290.0   82.459651               0    0.863636  1330  ...   \n",
       "\n",
       "      Legacynum  Stu_worker_ind  Need_pct_met  Perc_hrs_comp_fall   Hs_rate  \\\n",
       "221           1               0      0.847511                 1.0       NaN   \n",
       "318           0               0      1.000000                 1.0       NaN   \n",
       "926           0               1      1.000000                 1.0  0.909091   \n",
       "1352          0               0      0.828786                 1.0  0.866667   \n",
       "1801          0               0      1.000000                 1.0  0.750000   \n",
       "\n",
       "      Dorm_rate  Instate  Transcrip  Fall_GPA  Target  \n",
       "221    0.804103        1          1  2.941176       0  \n",
       "318    0.804103        0          1  4.000000       0  \n",
       "926    0.878319        1          0  3.200000       0  \n",
       "1352   0.846564        1          1  4.000000       0  \n",
       "1801   0.878319        1          1  3.812500       0  \n",
       "\n",
       "[5 rows x 21 columns]"
      ]
     },
     "execution_count": 16,
     "metadata": {},
     "output_type": "execute_result"
    }
   ],
   "source": [
    "# Testing the maximum size of a fetch\n",
    "sample = df.sample(n=500, random_state=42)\n",
    "sample.head()"
   ]
  },
  {
   "cell_type": "markdown",
   "id": "b508bd86-586b-48d8-9238-457d0e588395",
   "metadata": {},
   "source": [
    "# **(Page 3-36)**"
   ]
  },
  {
   "cell_type": "markdown",
   "id": "d03806eb-53d5-467f-846d-d0db19ac9e05",
   "metadata": {},
   "source": [
    "**1) Let’s create a bar plot for the GENDER variable. How many students are male versus female? What percentage of the students are female?**"
   ]
  },
  {
   "cell_type": "code",
   "execution_count": 61,
   "id": "d509d1e6-3152-41ee-9ce0-688648d9ff3e",
   "metadata": {},
   "outputs": [
    {
     "name": "stdout",
     "output_type": "stream",
     "text": [
      "=== Gender counts ===\n"
     ]
    },
    {
     "data": {
      "text/plain": [
       "GENDER\n",
       "F    1582\n",
       "M    1044\n",
       "Name: count, dtype: int64"
      ]
     },
     "execution_count": 61,
     "metadata": {},
     "output_type": "execute_result"
    }
   ],
   "source": [
    "#Count Gender distribution for all students\n",
    "gender_counts=df['GENDER'].value_counts()\n",
    "print(\"=== Gender counts ===\")\n",
    "gender_counts"
   ]
  },
  {
   "cell_type": "markdown",
   "id": "60a4ce06-2e2f-406a-ba43-f224a45a9c95",
   "metadata": {},
   "source": [
    "## Explanation\n",
    "This code calculates and displays the gender distribution among students in the dataset. Here's a step-by-step explanation:\n",
    "\n",
    " `gender_counts=df['GENDER'].value_counts()` - This line:\n",
    "   - Accesses the 'GENDER' column from the DataFrame 'df'\n",
    "   - Applies the `value_counts()` method, which counts the occurrences of each unique value in the column\n",
    "   - Stores the resulting Series in a variable called 'gender_counts'\n",
    "\n",
    "This code is useful for getting a quick summary of how many students belong to each gender category in the dataset."
   ]
  },
  {
   "cell_type": "code",
   "execution_count": 66,
   "id": "8271830f-d3be-4d63-b3f7-563f67402014",
   "metadata": {},
   "outputs": [
    {
     "name": "stdout",
     "output_type": "stream",
     "text": [
      "\n",
      "Percentage of female students: 60.244\n"
     ]
    }
   ],
   "source": [
    "# Calculate percentage of female students\n",
    "\n",
    "female_percentage = (gender_counts.get('F',0) / gender_counts.sum()) * 100\n",
    "print(\"\\nPercentage of female students:\",female_percentage.round(3))\n"
   ]
  },
  {
   "cell_type": "markdown",
   "id": "0ab9d6af-a17c-43a8-9ed4-ece1feeb217d",
   "metadata": {},
   "source": [
    "# Explanation\n",
    "This code calculates and displays the percentage of female students. \n",
    "\n",
    " `female_percentage = (gender_counts.get('F',0) / gender_counts.sum()) * 100` - This line:\n",
    "   - Uses `.get('F',0)` to retrieve the count of female students (with key 'F') from the `gender_counts` Series\n",
    "   - If 'F' doesn't exist in the Series, it returns 0 as the default value\n",
    "   - Divides this count by the total number of students (obtained with `gender_counts.sum()`)\n",
    "   - Multiplies by 100 to convert the ratio to a percentage\n"
   ]
  },
  {
   "cell_type": "code",
   "execution_count": 87,
   "id": "eb4fc882-90ee-421a-8293-fc108553bde5",
   "metadata": {},
   "outputs": [
    {
     "data": {
      "image/png": "[encoded data removed]",
      "text/plain": [
       "<Figure size 640x480 with 1 Axes>"
      ]
     },
     "metadata": {},
     "output_type": "display_data"
    }
   ],
   "source": [
    "# Create bar plot\n",
    "bars = plt.bar(gender_counts.index, gender_counts.values, color = ['pink','lightblue'])\n",
    "plt.title('Number of Students by Gender')\n",
    "plt.xlabel('Gender')\n",
    "plt.ylabel('Number of Students')\n",
    "plt.grid (axis='y', linestyle = '--', alpha=0.7)\n",
    "plt.tight_layout()  #adjust the spacing of plot elements to ensure they don't overlap\n",
    "\n",
    "for bar in bars:\n",
    "    height = bar.get_height()\n",
    "    plt.text(bar.get_x() + bar.get_width()/2, height + 10, f'{int(height)}',\n",
    "        ha='center', va='bottom', fontsize=10, fontweight='bold')\n",
    "\n",
    "plt.show()"
   ]
  },
  {
   "cell_type": "markdown",
   "id": "fda5649f-d0e0-4efa-bbd1-bbdfc943728e",
   "metadata": {},
   "source": [
    "**It can be seen that, out of the total of 2626 students. 1582, approximately 60% are female while the remaining 1044 are male.**"
   ]
  },
  {
   "cell_type": "markdown",
   "id": "64964372-399e-4184-84d6-ee0b1208317f",
   "metadata": {},
   "source": [
    "## Explanation\n",
    "This code creates a bar chart showing the number of students by gender. Here's a step-by-step explanation:\n",
    "\n",
    "1. `bars = plt.bar(gender_counts.index, gender_counts.values, color = ['pink','lightblue'])` - Creates a bar plot using the index of gender_counts as x-values and the values as heights, with pink and light blue colors for the bars.\n",
    "\n",
    "2. `plt.title('Number of Students by Gender')` - Adds a title to the plot.\n",
    "\n",
    "3. `plt.xlabel('Gender')` and `plt.ylabel('Number of Students')` - Add labels to the x and y axes.\n",
    "\n",
    "4. `plt.grid(axis='y', linestyle = '--', alpha=0.7)` - Adds horizontal grid lines with a dashed style and 70% opacity.\n",
    "\n",
    "5. `plt.tight_layout()` - Adjusts the spacing between plot elements to prevent overlapping.\n",
    "\n",
    "6. The for loop iterates through each bar to add text labels:\n",
    "   - Gets the height of each bar\n",
    "   - Adds text above each bar showing the count value\n",
    "   - Centers the text horizontally over each bar\n",
    "   - Positions the text 10 units above the bar\n",
    "   - Sets font size to 10 and makes it bold"
   ]
  },
  {
   "cell_type": "markdown",
   "id": "f13762fb-7389-484b-855e-ed218d69621f",
   "metadata": {},
   "source": [
    "**2) For students where Target=1, highlight them on the same bar plot.**"
   ]
  },
  {
   "cell_type": "code",
   "execution_count": 78,
   "id": "fa952744-6dcd-4718-9a1c-baf921b70d4d",
   "metadata": {},
   "outputs": [
    {
     "name": "stdout",
     "output_type": "stream",
     "text": [
      "===Number of Male and Female Students when Target is 1 ===\n"
     ]
    },
    {
     "data": {
      "text/plain": [
       "GENDER\n",
       "F    192\n",
       "M    142\n",
       "Name: count, dtype: int64"
      ]
     },
     "execution_count": 78,
     "metadata": {},
     "output_type": "execute_result"
    }
   ],
   "source": [
    "print('===Number of Male and Female Students when Target is 1 ===')\n",
    "Target1 = df[df['Target'] == 1]\n",
    "gender_counts_target1 = Target1['GENDER'].value_counts()\n",
    "gender_counts_target1"
   ]
  },
  {
   "cell_type": "markdown",
   "id": "d197cbda-e7c6-4d9f-a774-ff80cc9c5749",
   "metadata": {},
   "source": [
    "# Explanation\n",
    "This code analyzes and displays the gender distribution among students where the 'Target' value is 1. \n",
    "\n",
    "1. `Target1 = df[df['Target'] == 1]` - This creates a new DataFrame called 'Target1' that contains only the rows from the original DataFrame 'df' where the 'Target' column has a value of 1.\n",
    "\n",
    "2. `gender_counts_target1 = Target1['GENDER'].value_counts()` - This counts the occurrences of each unique value in the 'GENDER' column of the 'Target1' DataFrame and stores the result in 'gender_counts_target1'."
   ]
  },
  {
   "cell_type": "code",
   "execution_count": 89,
   "id": "908e97c6-c244-4a65-bcd6-dd82cf6fae39",
   "metadata": {},
   "outputs": [
    {
     "data": {
      "image/png": "[encoded data removed]",
      "text/plain": [
       "<Figure size 640x480 with 1 Axes>"
      ]
     },
     "metadata": {},
     "output_type": "display_data"
    }
   ],
   "source": [
    "# Plotting the Gender against its count \n",
    "bars = plt.bar(gender_counts.index, gender_counts.values, color = ['pink','lightblue'], label= 'All Students')\n",
    "\n",
    "#Plotting the Gender against its count when target is 1\n",
    "bars_Target1 = plt.bar(gender_counts_target1.index, gender_counts_target1.values, color = ['red', 'blue'], label= 'Target=1')\n",
    "\n",
    "plt.title('Number of Students by Gender on Target = 1')\n",
    "plt.xlabel('Gender')\n",
    "plt.ylabel('Number of Students')\n",
    "plt.legend()\n",
    "plt.grid (axis='y', linestyle = '--', alpha=0.7)\n",
    "plt.tight_layout()  #adjust the spacing of plot elements to ensure they don't overlap\n",
    "\n",
    "for bar in bars:\n",
    "    height = bar.get_height()\n",
    "    plt.text(bar.get_x() + bar.get_width()/2, height + 10, f'{int(height)}',\n",
    "        ha='center', va='bottom', fontsize=10, fontweight='bold')\n",
    "\n",
    "for bar in bars_Target1:\n",
    "    height = bar.get_height()\n",
    "    plt.text(bar.get_x() + bar.get_width()/2, height/2, f'{int(height)}',\n",
    "        ha='center', va='center', fontsize=10, fontweight='bold', color = 'white')\n",
    "\n",
    "# Saving plot as an image\n",
    "plt.savefig(\"gender_comparison_plots.png\", dpi=300)\n",
    "\n",
    "plt.show()"
   ]
  },
  {
   "cell_type": "markdown",
   "id": "4a9c42ca-79f8-4958-9b62-0c7ccb453ca4",
   "metadata": {},
   "source": [
    "**The bar chart shows students by gender and identifies those in Target = 1. It can be observed from the chart that there are more female students (1,582) than male students (1,044) in the dataset provided. Among them, 192 females and 142 males are included in Target = 1. Even though women are more numerous than men, the proportion of Target = 1 is slightly higher among males (13.6%) than for women (12.1%). This suggests that, in comparison to each group's numbers, male students are slightly more likely to fall within the Target = 1 category, which may warrant further investigation depending on what the target variable represents.**"
   ]
  },
  {
   "cell_type": "markdown",
   "id": "68b188dc-bbbb-4324-8370-2d1066f81a5f",
   "metadata": {},
   "source": [
    "# Explanation\n",
    "\n",
    "This code creates a bar chart comparing gender counts for all students and for students with Target=1, then adds annotations and saves the plot. Here's a step-by-step breakdown:\n",
    "\n",
    "1. `bars = plt.bar(gender_counts.index, gender_counts.values, color = ['pink','lightblue'], label= 'All Students')` Creates the first set of bars, showing the total number of students by gender (F and M).\n",
    "   - bars stores references to these bars so we can label them later.\n",
    "\n",
    "2. `bars_Target1 = plt.bar(gender_counts_target1.index, gender_counts_target1.values, color = ['red', 'blue'], label= 'Target=1')`  Creates a second set of bars showing gender counts only for students with Target=1\n",
    "   - These bars are drawn on top of the previous ones.\n",
    "\n",
    "3. The code adds plot elements:\n",
    "   - Title, x-label, y-label, and legend\n",
    "   - Grid lines on the y-axis with dashed style\n",
    "   - `tight_layout()` to prevent overlapping elements\n",
    "     \n",
    "4. Two loops add text annotations to the bars:\n",
    "   - First loop adds the count values above each bar in the \"All Students\" group\n",
    "   - Second loop adds the count values in the middle of each bar in the \"Target=1\" group with white text\n",
    "     \n",
    "5. Finally, it saves the plot as a PNG image file named \"gender_comparison_plots.png\" with a resolution of 300 DPI (dots per inch)."
   ]
  },
  {
   "cell_type": "markdown",
   "id": "ce88fee9-39cd-464c-8033-8c03d099fcc0",
   "metadata": {},
   "source": [
    "# **(Page 3-37)**"
   ]
  },
  {
   "cell_type": "markdown",
   "id": "3e44eafb-1f86-4fb3-b297-f160a61f8c77",
   "metadata": {},
   "source": [
    "**1) Finally, create a histogram for the Avg_income column. Use 20 bins to group the data.**"
   ]
  },
  {
   "cell_type": "code",
   "execution_count": 95,
   "id": "76df3c34-f444-42d3-b585-20221dda8a69",
   "metadata": {},
   "outputs": [
    {
     "data": {
      "image/png": "[encoded data removed]",
      "text/plain": [
       "<Figure size 640x480 with 1 Axes>"
      ]
     },
     "metadata": {},
     "output_type": "display_data"
    }
   ],
   "source": [
    "plt.hist(df['Avg_income'], bins=20, color = 'skyblue', edgecolor='black')\n",
    "plt.title('Histogram of Average Income')\n",
    "plt.xlabel('Average Income')\n",
    "plt.ylabel('Frequency')\n",
    "plt.grid(axis = 'y', linestyle = '--', alpha = 0.7) # To generate gridlines\n",
    "plt.savefig(\"Avg_Income Histogram.png\", dpi = 300) # Save it as an image\n",
    "\n",
    "plt.show()"
   ]
  },
  {
   "cell_type": "markdown",
   "id": "8b48402f-aaec-4a0c-997a-50d3413f0785",
   "metadata": {},
   "source": [
    "## Explanation\n",
    "The selected code creates and customizes a histogram visualization of average income data. Here's a step-by-step explanation:\n",
    "\n",
    "1. `plt.hist(df['Avg_income'], bins=20, color='skyblue', edgecolor='black')` - Creates a histogram of the 'Avg_income' column from a dataframe, with 20 bins, skyblue fill color, and black edges.\n",
    "\n",
    "2. `plt.title('Histogram of Average Income')` - Adds a title to the histogram.\n",
    "\n",
    "3. `plt.xlabel('Average Income')` - Labels the x-axis.\n",
    "\n",
    "4. `plt.ylabel('Frequency')` - Labels the y-axis.\n",
    "\n",
    "5. `plt.grid(axis='y', linestyle='--', alpha=0.7)` - Adds dashed gridlines on the y-axis with 70% opacity.\n",
    "\n",
    "6. `plt.savefig(\"Avg_Income Histogram.png\", dpi=300)` - Saves the plot as a PNG image file with a resolution of 300 dots per inch."
   ]
  }
 ],
 "metadata": {
  "kernelspec": {
   "display_name": "Python [conda env:base] *",
   "language": "python",
   "name": "conda-base-py"
  },
  "language_info": {
   "codemirror_mode": {
    "name": "ipython",
    "version": 3
   },
   "file_extension": ".py",
   "mimetype": "text/x-python",
   "name": "python",
   "nbconvert_exporter": "python",
   "pygments_lexer": "ipython3",
   "version": "3.12.2"
  }
 },
 "nbformat": 4,
 "nbformat_minor": 5
}
